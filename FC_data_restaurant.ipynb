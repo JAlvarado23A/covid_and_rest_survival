{
 "cells": [
  {
   "cell_type": "code",
   "execution_count": 1,
   "metadata": {},
   "outputs": [],
   "source": [
    "# Dependencies and Setup\n",
    "import matplotlib.pyplot as plt\n",
    "import pandas as pd\n",
    "import scipy.stats as st\n",
    "from scipy.stats import linregress,pearsonr\n",
    "import numpy as np\n",
    "import json\n",
    "import requests\n"
   ]
  },
  {
   "cell_type": "code",
   "execution_count": 2,
   "metadata": {},
   "outputs": [],
   "source": [
    "# Study data files\n",
    "restaurants_data_path = \"Resources/clean_rest_data.csv\"\n",
    "covid19_test_path = \"Resources/covid19cases_test.csv\""
   ]
  },
  {
   "cell_type": "code",
   "execution_count": 3,
   "metadata": {},
   "outputs": [],
   "source": [
    "# Read the data and the study results\n",
    "restaurants_ca_df = pd.read_csv(restaurants_data_path)\n",
    "covid_cases_df = pd.read_csv(covid19_test_path)"
   ]
  },
  {
   "cell_type": "code",
   "execution_count": 4,
   "metadata": {},
   "outputs": [
    {
     "name": "stdout",
     "output_type": "stream",
     "text": [
      "(16936, 11)\n"
     ]
    }
   ],
   "source": [
    "num_dataset = restaurants_ca_df.shape\n",
    "print(num_dataset)"
   ]
  },
  {
   "cell_type": "code",
   "execution_count": 5,
   "metadata": {},
   "outputs": [
    {
     "data": {
      "text/plain": [
       "16936"
      ]
     },
     "execution_count": 5,
     "metadata": {},
     "output_type": "execute_result"
    }
   ],
   "source": [
    "len(restaurants_ca_df)"
   ]
  },
  {
   "cell_type": "code",
   "execution_count": 6,
   "metadata": {},
   "outputs": [
    {
     "data": {
      "text/plain": [
       "Index(['County_Name', 'FIPS_County', 'date', 'Business_Type', 'Action',\n",
       "       'order_group', 'order_code', 'Current_order_status', 'Effective_date',\n",
       "       'Date_Signed', 'Citation'],\n",
       "      dtype='object')"
      ]
     },
     "execution_count": 6,
     "metadata": {},
     "output_type": "execute_result"
    }
   ],
   "source": [
    "restaurants_ca_df.columns"
   ]
  },
  {
   "cell_type": "code",
   "execution_count": 7,
   "metadata": {},
   "outputs": [
    {
     "data": {
      "text/plain": [
       "58"
      ]
     },
     "execution_count": 7,
     "metadata": {},
     "output_type": "execute_result"
    }
   ],
   "source": [
    "# Checking the number of counties\n",
    "total_num_counties = len(restaurants_ca_df['County_Name'].unique())\n",
    "total_num_counties "
   ]
  },
  {
   "cell_type": "code",
   "execution_count": 8,
   "metadata": {},
   "outputs": [
    {
     "data": {
      "text/html": [
       "<div>\n",
       "<style scoped>\n",
       "    .dataframe tbody tr th:only-of-type {\n",
       "        vertical-align: middle;\n",
       "    }\n",
       "\n",
       "    .dataframe tbody tr th {\n",
       "        vertical-align: top;\n",
       "    }\n",
       "\n",
       "    .dataframe thead th {\n",
       "        text-align: right;\n",
       "    }\n",
       "</style>\n",
       "<table border=\"1\" class=\"dataframe\">\n",
       "  <thead>\n",
       "    <tr style=\"text-align: right;\">\n",
       "      <th></th>\n",
       "      <th>County_Name</th>\n",
       "      <th>FIPS_County</th>\n",
       "      <th>date</th>\n",
       "      <th>Business_Type</th>\n",
       "      <th>Action</th>\n",
       "      <th>order_group</th>\n",
       "      <th>order_code</th>\n",
       "      <th>Current_order_status</th>\n",
       "      <th>Effective_date</th>\n",
       "      <th>Date_Signed</th>\n",
       "      <th>Citation</th>\n",
       "    </tr>\n",
       "  </thead>\n",
       "  <tbody>\n",
       "    <tr>\n",
       "      <th>0</th>\n",
       "      <td>Alameda County</td>\n",
       "      <td>1</td>\n",
       "      <td>3/15/2020 0:00</td>\n",
       "      <td>Restaurants</td>\n",
       "      <td>none</td>\n",
       "      <td>No restriction found</td>\n",
       "      <td>1</td>\n",
       "      <td>none</td>\n",
       "      <td>none</td>\n",
       "      <td>none</td>\n",
       "      <td>none</td>\n",
       "    </tr>\n",
       "    <tr>\n",
       "      <th>1</th>\n",
       "      <td>Alameda County</td>\n",
       "      <td>1</td>\n",
       "      <td>3/16/2020 0:00</td>\n",
       "      <td>Restaurants</td>\n",
       "      <td>none</td>\n",
       "      <td>No restriction found</td>\n",
       "      <td>1</td>\n",
       "      <td>none</td>\n",
       "      <td>none</td>\n",
       "      <td>none</td>\n",
       "      <td>none</td>\n",
       "    </tr>\n",
       "    <tr>\n",
       "      <th>2</th>\n",
       "      <td>Alameda County</td>\n",
       "      <td>1</td>\n",
       "      <td>3/17/2020 0:00</td>\n",
       "      <td>Restaurants</td>\n",
       "      <td>none</td>\n",
       "      <td>No restriction found</td>\n",
       "      <td>1</td>\n",
       "      <td>none</td>\n",
       "      <td>none</td>\n",
       "      <td>none</td>\n",
       "      <td>none</td>\n",
       "    </tr>\n",
       "    <tr>\n",
       "      <th>3</th>\n",
       "      <td>Alameda County</td>\n",
       "      <td>1</td>\n",
       "      <td>3/18/2020 0:00</td>\n",
       "      <td>Restaurants</td>\n",
       "      <td>none</td>\n",
       "      <td>No restriction found</td>\n",
       "      <td>1</td>\n",
       "      <td>none</td>\n",
       "      <td>none</td>\n",
       "      <td>none</td>\n",
       "      <td>none</td>\n",
       "    </tr>\n",
       "    <tr>\n",
       "      <th>4</th>\n",
       "      <td>Alameda County</td>\n",
       "      <td>1</td>\n",
       "      <td>3/19/2020 0:00</td>\n",
       "      <td>Restaurants</td>\n",
       "      <td>Curbside/carryout/delivery only</td>\n",
       "      <td>Curbside/delivery only</td>\n",
       "      <td>4</td>\n",
       "      <td>In effect</td>\n",
       "      <td>3/19/2020</td>\n",
       "      <td>3/19/2020</td>\n",
       "      <td>Cal. Exec. Order No. N-33-20 (Mar. 19, 2020)</td>\n",
       "    </tr>\n",
       "  </tbody>\n",
       "</table>\n",
       "</div>"
      ],
      "text/plain": [
       "      County_Name  FIPS_County            date Business_Type  \\\n",
       "0  Alameda County            1  3/15/2020 0:00   Restaurants   \n",
       "1  Alameda County            1  3/16/2020 0:00   Restaurants   \n",
       "2  Alameda County            1  3/17/2020 0:00   Restaurants   \n",
       "3  Alameda County            1  3/18/2020 0:00   Restaurants   \n",
       "4  Alameda County            1  3/19/2020 0:00   Restaurants   \n",
       "\n",
       "                            Action             order_group  order_code  \\\n",
       "0                             none    No restriction found           1   \n",
       "1                             none    No restriction found           1   \n",
       "2                             none    No restriction found           1   \n",
       "3                             none    No restriction found           1   \n",
       "4  Curbside/carryout/delivery only  Curbside/delivery only           4   \n",
       "\n",
       "  Current_order_status Effective_date Date_Signed  \\\n",
       "0                 none           none        none   \n",
       "1                 none           none        none   \n",
       "2                 none           none        none   \n",
       "3                 none           none        none   \n",
       "4            In effect      3/19/2020   3/19/2020   \n",
       "\n",
       "                                       Citation  \n",
       "0                                          none  \n",
       "1                                          none  \n",
       "2                                          none  \n",
       "3                                          none  \n",
       "4  Cal. Exec. Order No. N-33-20 (Mar. 19, 2020)  "
      ]
     },
     "execution_count": 8,
     "metadata": {},
     "output_type": "execute_result"
    }
   ],
   "source": [
    "restaurants_ca_df.head()"
   ]
  },
  {
   "cell_type": "code",
   "execution_count": null,
   "metadata": {},
   "outputs": [],
   "source": []
  },
  {
   "cell_type": "code",
   "execution_count": 9,
   "metadata": {},
   "outputs": [
    {
     "data": {
      "text/plain": [
       "Cal. Health Order (July 13, 2020)                          49\n",
       "Cal. Exec. Order No. N-33-20 (Mar. 19, 2020)               46\n",
       "Cal. Health Order (May 7, 2020)                            21\n",
       "Cal. County Tier Assesssment (Nov. 11 2020)                14\n",
       "Cal. County Tier Assessment (Sept. 21, 2020)               14\n",
       "5.29.20 County variance - Coronavirus COVID-19 Response    12\n",
       "Cal. County Tier Assesssment (Oct. 6, 2020)                 8\n",
       "Cal. County Tier Assessment (Aug. 31, 2020)                 8\n",
       "Cal. County Tier Assesssment (Oct. 19, 2020)                7\n",
       "Cal. County Tier Assesssment (Oct. 27, 2020)                7\n",
       "Cal. County Tier Assessment (Dec. 22, 2020)                 7\n",
       "Cal. HD Guidance on Closure of Sectors (July 1, 2020)       7\n",
       "Cal. County Tier Assesssment (Sept. 28, 2020)               7\n",
       "Cal. County Tier Assesssment (Nov. 4, 2020)                 7\n",
       "Cal. County Tier Assessment (Oct. 12, 2020)                 7\n",
       "Cal. County Tier Assessment (Sept. 8, 2020)                 7\n",
       "6.25.20 County variance - Coronavirus COVID-19 Response     6\n",
       "Cal. Press Release (Dec. 16, 2020)                          6\n",
       "Cal. Press Release (Dec. 10, 2020)                          5\n",
       "6.20.20 County variance - Coronavirus COVID-19 Response     5\n",
       "7.8.20 County variance - Coronavirus COVID-19 Response      5\n",
       "Cal. County Tier Assessment (Nov. 24, 2020)                 4\n",
       "6.12.20 County variance - Coronavirus COVID-19 Response     4\n",
       "Cal. Exec. Order No. N-60-20 (May 4, 2020)                  4\n",
       "Cal. County Tier Assessment  (Dec. 1, 2020)                 4\n",
       "none                                                        4\n",
       "6.16.20 County variance - Coronavirus COVID-19 Response     4\n",
       "Cal. County Tier Assessment (Nov. 28, 2020)                 3\n",
       "Cal. Regional Stay at Home (Dec. 5, 2020)                   3\n",
       "Cal. County Tier Assessment (Dec. 8, 2020)                  2\n",
       "6.10.20 County variance - Coronavirus COVID-19 Response     2\n",
       "Cal. County Tier Assessment (Dec. 29, 2020)                 2\n",
       "Cal. County Tier Assessment (Dec. 15, 2020)                 1\n",
       "Name: Citation, dtype: int64"
      ]
     },
     "execution_count": 9,
     "metadata": {},
     "output_type": "execute_result"
    }
   ],
   "source": [
    "la_citation = restaurants_ca_df.loc[restaurants_ca_df['County_Name']=='Los Angeles County']['Citation'].value_counts()\n",
    "la_citation"
   ]
  },
  {
   "cell_type": "code",
   "execution_count": 10,
   "metadata": {},
   "outputs": [
    {
     "data": {
      "text/plain": [
       "292"
      ]
     },
     "execution_count": 10,
     "metadata": {},
     "output_type": "execute_result"
    }
   ],
   "source": [
    "la_citation_sum = la_citation.sum()\n",
    "la_citation_sum"
   ]
  },
  {
   "cell_type": "code",
   "execution_count": 11,
   "metadata": {},
   "outputs": [],
   "source": [
    "# Search top5 counties related to covid 19 cases\n",
    "la_list = restaurants_ca_df.loc[restaurants_ca_df[\"County_Name\"] == \"Los Angeles County\"]"
   ]
  },
  {
   "cell_type": "code",
   "execution_count": 12,
   "metadata": {},
   "outputs": [],
   "source": [
    "san_bernardino_list = restaurants_ca_df.loc[restaurants_ca_df[\"County_Name\"] == \"San Bernardino County\"]"
   ]
  },
  {
   "cell_type": "code",
   "execution_count": 13,
   "metadata": {},
   "outputs": [],
   "source": [
    "riverside_list = restaurants_ca_df.loc[restaurants_ca_df[\"County_Name\"] == \"Riverside County\"]"
   ]
  },
  {
   "cell_type": "code",
   "execution_count": 14,
   "metadata": {},
   "outputs": [],
   "source": [
    "san_diego_list = restaurants_ca_df.loc[restaurants_ca_df[\"County_Name\"] == \"San Diego County\"]"
   ]
  },
  {
   "cell_type": "code",
   "execution_count": 15,
   "metadata": {},
   "outputs": [],
   "source": [
    "oc_list = restaurants_ca_df.loc[restaurants_ca_df[\"County_Name\"] == \"Orange County\"]"
   ]
  },
  {
   "cell_type": "code",
   "execution_count": 16,
   "metadata": {},
   "outputs": [],
   "source": [
    "# Search bottom5 counties related to covid 19 cases\n",
    "sierra_list = restaurants_ca_df.loc[restaurants_ca_df[\"County_Name\"] == \"Sierra County\"]"
   ]
  },
  {
   "cell_type": "code",
   "execution_count": 17,
   "metadata": {},
   "outputs": [],
   "source": [
    "alpine_list = restaurants_ca_df.loc[restaurants_ca_df[\"County_Name\"] == \"Alpine County\"]"
   ]
  },
  {
   "cell_type": "code",
   "execution_count": 18,
   "metadata": {},
   "outputs": [],
   "source": [
    "trinity_list = restaurants_ca_df.loc[restaurants_ca_df[\"County_Name\"] == \"Trinity County\"]"
   ]
  },
  {
   "cell_type": "code",
   "execution_count": 19,
   "metadata": {},
   "outputs": [],
   "source": [
    "modoc_list = restaurants_ca_df.loc[restaurants_ca_df[\"County_Name\"] == \"Modoc County\"]"
   ]
  },
  {
   "cell_type": "code",
   "execution_count": 20,
   "metadata": {},
   "outputs": [],
   "source": [
    "mariposa_list = restaurants_ca_df.loc[restaurants_ca_df[\"County_Name\"] == \"Mariposa County\"]"
   ]
  },
  {
   "cell_type": "code",
   "execution_count": null,
   "metadata": {},
   "outputs": [],
   "source": []
  },
  {
   "cell_type": "code",
   "execution_count": 21,
   "metadata": {},
   "outputs": [
    {
     "data": {
      "text/plain": [
       "292.0"
      ]
     },
     "execution_count": 21,
     "metadata": {},
     "output_type": "execute_result"
    }
   ],
   "source": [
    "# the total number of citation per county\n",
    "\n",
    "total_num_citations = restaurants_ca_df['Citation'].count() / total_num_counties\n",
    "total_num_citations"
   ]
  },
  {
   "cell_type": "code",
   "execution_count": 22,
   "metadata": {},
   "outputs": [
    {
     "data": {
      "text/html": [
       "<div>\n",
       "<style scoped>\n",
       "    .dataframe tbody tr th:only-of-type {\n",
       "        vertical-align: middle;\n",
       "    }\n",
       "\n",
       "    .dataframe tbody tr th {\n",
       "        vertical-align: top;\n",
       "    }\n",
       "\n",
       "    .dataframe thead th {\n",
       "        text-align: right;\n",
       "    }\n",
       "</style>\n",
       "<table border=\"1\" class=\"dataframe\">\n",
       "  <thead>\n",
       "    <tr style=\"text-align: right;\">\n",
       "      <th></th>\n",
       "      <th>0</th>\n",
       "    </tr>\n",
       "    <tr>\n",
       "      <th>Counties</th>\n",
       "      <th></th>\n",
       "    </tr>\n",
       "  </thead>\n",
       "  <tbody>\n",
       "    <tr>\n",
       "      <th>Los Angeles</th>\n",
       "      <td>292.0</td>\n",
       "    </tr>\n",
       "    <tr>\n",
       "      <th>San Bernardino</th>\n",
       "      <td>292.0</td>\n",
       "    </tr>\n",
       "    <tr>\n",
       "      <th>Riverside</th>\n",
       "      <td>292.0</td>\n",
       "    </tr>\n",
       "    <tr>\n",
       "      <th>San Diego</th>\n",
       "      <td>292.0</td>\n",
       "    </tr>\n",
       "    <tr>\n",
       "      <th>Orange</th>\n",
       "      <td>292.0</td>\n",
       "    </tr>\n",
       "  </tbody>\n",
       "</table>\n",
       "</div>"
      ],
      "text/plain": [
       "                    0\n",
       "Counties             \n",
       "Los Angeles     292.0\n",
       "San Bernardino  292.0\n",
       "Riverside       292.0\n",
       "San Diego       292.0\n",
       "Orange          292.0"
      ]
     },
     "execution_count": 22,
     "metadata": {},
     "output_type": "execute_result"
    }
   ],
   "source": [
    "Top5_counties_total_citation = {\n",
    "    \"Los Angeles\": [total_num_citations],\n",
    "    \"San Bernardino\": [total_num_citations], \n",
    "    \"Riverside\": [total_num_citations],\n",
    "    \"San Diego\": [total_num_citations],\n",
    "    \"Orange\": [total_num_citations]}\n",
    "\n",
    "\n",
    "Top5_total = pd.DataFrame(data= Top5_counties_total_citation)\n",
    "\n",
    "Top5_total_transposed = Top5_total.T\n",
    "\n",
    "Top5_total.columns.names = ['Counties']\n",
    "\n",
    "Top5_total_transposed"
   ]
  },
  {
   "cell_type": "code",
   "execution_count": null,
   "metadata": {},
   "outputs": [],
   "source": []
  },
  {
   "cell_type": "code",
   "execution_count": 23,
   "metadata": {},
   "outputs": [],
   "source": [
    "# counties citation - covid19 response\n",
    "la_covid19_response = la_list[la_list['Citation'].str.contains(\"COVID-19\")].value_counts()\n",
    "san_bernardino_covid19_response = san_bernardino_list[san_bernardino_list['Citation'].str.contains(\"COVID-19\")].value_counts()\n",
    "riverside_response = riverside_list[riverside_list['Citation'].str.contains(\"COVID-19\")].value_counts()\n",
    "san_diego_response = san_diego_list[san_diego_list['Citation'].str.contains(\"COVID-19\")].value_counts()\n",
    "oc_covid19_response = oc_list[oc_list['Citation'].str.contains(\"COVID-19\")].value_counts()\n",
    "\n",
    "\n",
    "sierra_covid19_response = sierra_list[sierra_list['Citation'].str.contains(\"COVID-19\")].value_counts()\n",
    "alpine_covid19_response = alpine_list[alpine_list['Citation'].str.contains(\"COVID-19\")].value_counts()\n",
    "trinity_covid19_response = trinity_list[trinity_list['Citation'].str.contains(\"COVID-19\")].value_counts()\n",
    "modoc_covid19_response = modoc_list[modoc_list['Citation'].str.contains(\"COVID-19\")].value_counts()\n",
    "mariposa_covid19_response = mariposa_list[mariposa_list['Citation'].str.contains(\"COVID-19\")].value_counts()"
   ]
  },
  {
   "cell_type": "code",
   "execution_count": 24,
   "metadata": {},
   "outputs": [],
   "source": [
    "num_la_response = len(la_covid19_response)"
   ]
  },
  {
   "cell_type": "code",
   "execution_count": 25,
   "metadata": {},
   "outputs": [],
   "source": [
    "num_san_bernardino_response =len(san_bernardino_covid19_response)"
   ]
  },
  {
   "cell_type": "code",
   "execution_count": 26,
   "metadata": {},
   "outputs": [],
   "source": [
    "num_riverside_response = len(riverside_response)"
   ]
  },
  {
   "cell_type": "code",
   "execution_count": 27,
   "metadata": {},
   "outputs": [],
   "source": [
    "num_san_diego_response = len(san_diego_response)"
   ]
  },
  {
   "cell_type": "code",
   "execution_count": 28,
   "metadata": {},
   "outputs": [],
   "source": [
    "num_oc_response = len(oc_covid19_response)"
   ]
  },
  {
   "cell_type": "code",
   "execution_count": null,
   "metadata": {},
   "outputs": [],
   "source": []
  },
  {
   "cell_type": "code",
   "execution_count": 32,
   "metadata": {},
   "outputs": [
    {
     "data": {
      "text/html": [
       "<div>\n",
       "<style scoped>\n",
       "    .dataframe tbody tr th:only-of-type {\n",
       "        vertical-align: middle;\n",
       "    }\n",
       "\n",
       "    .dataframe tbody tr th {\n",
       "        vertical-align: top;\n",
       "    }\n",
       "\n",
       "    .dataframe thead th {\n",
       "        text-align: right;\n",
       "    }\n",
       "</style>\n",
       "<table border=\"1\" class=\"dataframe\">\n",
       "  <thead>\n",
       "    <tr style=\"text-align: right;\">\n",
       "      <th></th>\n",
       "      <th>Los Angeles</th>\n",
       "      <th>San Bernardino</th>\n",
       "      <th>Riverside</th>\n",
       "      <th>San Diego</th>\n",
       "      <th>Orange</th>\n",
       "    </tr>\n",
       "  </thead>\n",
       "  <tbody>\n",
       "    <tr>\n",
       "      <th>0</th>\n",
       "      <td>38</td>\n",
       "      <td>45</td>\n",
       "      <td>45</td>\n",
       "      <td>45</td>\n",
       "      <td>45</td>\n",
       "    </tr>\n",
       "  </tbody>\n",
       "</table>\n",
       "</div>"
      ],
      "text/plain": [
       "   Los Angeles  San Bernardino  Riverside  San Diego  Orange\n",
       "0           38              45         45         45      45"
      ]
     },
     "execution_count": 32,
     "metadata": {},
     "output_type": "execute_result"
    }
   ],
   "source": [
    "# Create a dataframe for number of covid19 citation by selecting counties\n",
    "\n",
    "Top5_counties_covid19_citation = pd.DataFrame({\n",
    "    \"Los Angeles\": [num_la_response],\n",
    "    \"San Bernardino\": [num_san_bernardino_response], \n",
    "    \"Riverside\": [num_riverside_response],\n",
    "    \"San Diego\": [num_san_diego_response],\n",
    "    \"Orange\": [num_oc_response]\n",
    "     \n",
    "})\n",
    "\n",
    "\n",
    "Top5_counties_covid19_citation\n",
    "\n",
    "\n"
   ]
  },
  {
   "cell_type": "code",
   "execution_count": null,
   "metadata": {},
   "outputs": [],
   "source": []
  },
  {
   "cell_type": "code",
   "execution_count": 33,
   "metadata": {},
   "outputs": [
    {
     "data": {
      "text/html": [
       "<div>\n",
       "<style scoped>\n",
       "    .dataframe tbody tr th:only-of-type {\n",
       "        vertical-align: middle;\n",
       "    }\n",
       "\n",
       "    .dataframe tbody tr th {\n",
       "        vertical-align: top;\n",
       "    }\n",
       "\n",
       "    .dataframe thead th {\n",
       "        text-align: right;\n",
       "    }\n",
       "</style>\n",
       "<table border=\"1\" class=\"dataframe\">\n",
       "  <thead>\n",
       "    <tr style=\"text-align: right;\">\n",
       "      <th></th>\n",
       "      <th>0</th>\n",
       "    </tr>\n",
       "    <tr>\n",
       "      <th>Counties</th>\n",
       "      <th></th>\n",
       "    </tr>\n",
       "  </thead>\n",
       "  <tbody>\n",
       "    <tr>\n",
       "      <th>Los Angeles</th>\n",
       "      <td>38</td>\n",
       "    </tr>\n",
       "    <tr>\n",
       "      <th>San Bernardino</th>\n",
       "      <td>45</td>\n",
       "    </tr>\n",
       "    <tr>\n",
       "      <th>Riverside</th>\n",
       "      <td>45</td>\n",
       "    </tr>\n",
       "    <tr>\n",
       "      <th>San Diego</th>\n",
       "      <td>45</td>\n",
       "    </tr>\n",
       "    <tr>\n",
       "      <th>Orange</th>\n",
       "      <td>45</td>\n",
       "    </tr>\n",
       "  </tbody>\n",
       "</table>\n",
       "</div>"
      ],
      "text/plain": [
       "                 0\n",
       "Counties          \n",
       "Los Angeles     38\n",
       "San Bernardino  45\n",
       "Riverside       45\n",
       "San Diego       45\n",
       "Orange          45"
      ]
     },
     "execution_count": 33,
     "metadata": {},
     "output_type": "execute_result"
    }
   ],
   "source": [
    "Top5_covid19_citation ={\n",
    "    \"Los Angeles\": [num_la_response],\n",
    "    \"San Bernardino\": [num_san_bernardino_response], \n",
    "    \"Riverside\": [num_riverside_response],\n",
    "    \"San Diego\": [num_san_diego_response],\n",
    "    \"Orange\": [num_oc_response]}\n",
    "\n",
    "Top5 = pd.DataFrame(data= Top5_covid19_citation)\n",
    "\n",
    "Top5_transposed = Top5.T\n",
    "\n",
    "Top5.columns.names = ['Counties']\n",
    "\n",
    "Top5_transposed"
   ]
  },
  {
   "cell_type": "code",
   "execution_count": 34,
   "metadata": {},
   "outputs": [
    {
     "data": {
      "image/png": "[encoded data removed]",
      "text/plain": [
       "<Figure size 864x576 with 1 Axes>"
      ]
     },
     "metadata": {
      "needs_background": "light"
     },
     "output_type": "display_data"
    }
   ],
   "source": [
    "num_covid19_citation = [38, 45 ,45,45,45]\n",
    "index = ['Los Angeles', \"San Bernardino\",\"Riverside\",\"San Diego\",\"Orange\"]\n",
    "\n",
    "df = pd.DataFrame({'num_covid19_citation' : num_covid19_citation}, index = index)\n",
    "ax = df.plot.bar(rot=0,color = \"r\" ,figsize=(12, 8), alpha = 0.5 , align = 'center')\n",
    "ax.legend(loc=0)\n",
    "\n",
    "plt.title('Top 5 Counties Non Compliance with Covid19 Restriction',size = 18)\n",
    "plt.xlabel('Counties', size = 14)\n",
    "plt.ylabel('Num of Restaurant',size = 14)\n",
    "plt.ylim(0,55)\n",
    "\n",
    "plt.savefig('output_data/top5 counties non compliance')\n",
    "plt.show()"
   ]
  },
  {
   "cell_type": "code",
   "execution_count": 35,
   "metadata": {},
   "outputs": [],
   "source": [
    "num_sierra_response = len(sierra_covid19_response)"
   ]
  },
  {
   "cell_type": "code",
   "execution_count": 36,
   "metadata": {},
   "outputs": [],
   "source": [
    "num_alpine_response = len(alpine_covid19_response)"
   ]
  },
  {
   "cell_type": "code",
   "execution_count": 37,
   "metadata": {},
   "outputs": [],
   "source": [
    "num_trinity_response = len(trinity_covid19_response)"
   ]
  },
  {
   "cell_type": "code",
   "execution_count": 38,
   "metadata": {},
   "outputs": [],
   "source": [
    "num_modoc_response = len(modoc_covid19_response) "
   ]
  },
  {
   "cell_type": "code",
   "execution_count": 39,
   "metadata": {},
   "outputs": [],
   "source": [
    "num_mariposa_response = len(mariposa_covid19_response)"
   ]
  },
  {
   "cell_type": "code",
   "execution_count": 40,
   "metadata": {},
   "outputs": [
    {
     "data": {
      "text/html": [
       "<div>\n",
       "<style scoped>\n",
       "    .dataframe tbody tr th:only-of-type {\n",
       "        vertical-align: middle;\n",
       "    }\n",
       "\n",
       "    .dataframe tbody tr th {\n",
       "        vertical-align: top;\n",
       "    }\n",
       "\n",
       "    .dataframe thead th {\n",
       "        text-align: right;\n",
       "    }\n",
       "</style>\n",
       "<table border=\"1\" class=\"dataframe\">\n",
       "  <thead>\n",
       "    <tr style=\"text-align: right;\">\n",
       "      <th></th>\n",
       "      <th>Sierra</th>\n",
       "      <th>Alpine</th>\n",
       "      <th>Trinity</th>\n",
       "      <th>Modoc</th>\n",
       "      <th>Mariposa</th>\n",
       "    </tr>\n",
       "    <tr>\n",
       "      <th>number of Covid-19 Response</th>\n",
       "      <th></th>\n",
       "      <th></th>\n",
       "      <th></th>\n",
       "      <th></th>\n",
       "      <th></th>\n",
       "    </tr>\n",
       "  </thead>\n",
       "  <tbody>\n",
       "    <tr>\n",
       "      <th>0</th>\n",
       "      <td>53</td>\n",
       "      <td>45</td>\n",
       "      <td>52</td>\n",
       "      <td>53</td>\n",
       "      <td>53</td>\n",
       "    </tr>\n",
       "  </tbody>\n",
       "</table>\n",
       "</div>"
      ],
      "text/plain": [
       "                             Sierra  Alpine  Trinity  Modoc  Mariposa\n",
       "number of Covid-19 Response                                          \n",
       "0                                53      45       52     53        53"
      ]
     },
     "execution_count": 40,
     "metadata": {},
     "output_type": "execute_result"
    }
   ],
   "source": [
    "Bottom5_counties_covid19_citation = pd.DataFrame({\n",
    "    \"Sierra\":[num_sierra_response],\n",
    "    \"Alpine\": [num_alpine_response], \n",
    "    \"Trinity\": [num_trinity_response],\n",
    "    \"Modoc\": [num_modoc_response],\n",
    "    \"Mariposa\": [num_mariposa_response]\n",
    "})\n",
    "\n",
    "Bottom5_counties_covid19_citation.index.name = \"number of Covid-19 Response\"\n",
    "Bottom5_counties_covid19_citation"
   ]
  },
  {
   "cell_type": "code",
   "execution_count": null,
   "metadata": {},
   "outputs": [],
   "source": []
  },
  {
   "cell_type": "code",
   "execution_count": 41,
   "metadata": {},
   "outputs": [
    {
     "data": {
      "text/html": [
       "<div>\n",
       "<style scoped>\n",
       "    .dataframe tbody tr th:only-of-type {\n",
       "        vertical-align: middle;\n",
       "    }\n",
       "\n",
       "    .dataframe tbody tr th {\n",
       "        vertical-align: top;\n",
       "    }\n",
       "\n",
       "    .dataframe thead th {\n",
       "        text-align: right;\n",
       "    }\n",
       "</style>\n",
       "<table border=\"1\" class=\"dataframe\">\n",
       "  <thead>\n",
       "    <tr style=\"text-align: right;\">\n",
       "      <th></th>\n",
       "      <th>0</th>\n",
       "    </tr>\n",
       "    <tr>\n",
       "      <th>Counties</th>\n",
       "      <th></th>\n",
       "    </tr>\n",
       "  </thead>\n",
       "  <tbody>\n",
       "    <tr>\n",
       "      <th>Sierra</th>\n",
       "      <td>53</td>\n",
       "    </tr>\n",
       "    <tr>\n",
       "      <th>Alpine</th>\n",
       "      <td>45</td>\n",
       "    </tr>\n",
       "    <tr>\n",
       "      <th>Trinity</th>\n",
       "      <td>52</td>\n",
       "    </tr>\n",
       "    <tr>\n",
       "      <th>Modoc</th>\n",
       "      <td>53</td>\n",
       "    </tr>\n",
       "    <tr>\n",
       "      <th>Mariposa</th>\n",
       "      <td>53</td>\n",
       "    </tr>\n",
       "  </tbody>\n",
       "</table>\n",
       "</div>"
      ],
      "text/plain": [
       "           0\n",
       "Counties    \n",
       "Sierra    53\n",
       "Alpine    45\n",
       "Trinity   52\n",
       "Modoc     53\n",
       "Mariposa  53"
      ]
     },
     "execution_count": 41,
     "metadata": {},
     "output_type": "execute_result"
    }
   ],
   "source": [
    "bottom5_covid19_citation ={\n",
    "   \"Sierra\":[num_sierra_response],\n",
    "    \"Alpine\": [num_alpine_response], \n",
    "    \"Trinity\": [num_trinity_response],\n",
    "    \"Modoc\": [num_modoc_response],\n",
    "    \"Mariposa\": [num_mariposa_response]\n",
    "}\n",
    "\n",
    "bottom5 = pd.DataFrame(data= bottom5_covid19_citation)\n",
    "\n",
    "bottom5_transposed = bottom5.T\n",
    "\n",
    "bottom5.columns.names = ['Counties']\n",
    "bottom5_transposed"
   ]
  },
  {
   "cell_type": "code",
   "execution_count": 42,
   "metadata": {},
   "outputs": [
    {
     "data": {
      "image/png": "[encoded data removed]",
      "text/plain": [
       "<Figure size 864x576 with 1 Axes>"
      ]
     },
     "metadata": {
      "needs_background": "light"
     },
     "output_type": "display_data"
    }
   ],
   "source": [
    "bottom5_num_covid19_citation = [50, 45 ,52,53,53]\n",
    "index = ['Sierra', \"Alpine\",\" Trinity\",\"Modoc\",\"Mariposa\"]\n",
    "\n",
    "df = pd.DataFrame({'bottom5_num_covid19_citation' : bottom5_num_covid19_citation}, index = index)\n",
    "ax = df.plot.bar(rot=0,color = \"g\" ,figsize=(12, 8), alpha = 0.5 , align = 'center')\n",
    "ax.legend(loc=0)\n",
    "\n",
    "plt.title('Bottom 5 Counties Non Compliance with Covid19 Restriction',size = 18)\n",
    "plt.xlabel('Counties', size = 14)\n",
    "plt.ylabel('Num of Restaurant',size = 14)\n",
    "plt.ylim(0,55)\n",
    "\n",
    "plt.savefig('output_data/bottom5 counties non compliance')\n",
    "plt.show()"
   ]
  },
  {
   "cell_type": "code",
   "execution_count": 43,
   "metadata": {},
   "outputs": [],
   "source": [
    "# the percentage of noncompliance with Covid19 per county (Top5)\n",
    "la_response = num_la_response / total_num_citations * 100"
   ]
  },
  {
   "cell_type": "code",
   "execution_count": 44,
   "metadata": {},
   "outputs": [],
   "source": [
    "san_bernardino_response = num_san_bernardino_response / total_num_citations * 100"
   ]
  },
  {
   "cell_type": "code",
   "execution_count": 45,
   "metadata": {},
   "outputs": [],
   "source": [
    "riverside_response = num_riverside_response / total_num_citations * 100"
   ]
  },
  {
   "cell_type": "code",
   "execution_count": 46,
   "metadata": {},
   "outputs": [],
   "source": [
    "san_diego_response = num_san_diego_response / total_num_citations * 100"
   ]
  },
  {
   "cell_type": "code",
   "execution_count": 47,
   "metadata": {},
   "outputs": [],
   "source": [
    "oc_response = num_oc_response / total_num_citations * 100"
   ]
  },
  {
   "cell_type": "code",
   "execution_count": null,
   "metadata": {},
   "outputs": [],
   "source": []
  },
  {
   "cell_type": "code",
   "execution_count": 48,
   "metadata": {},
   "outputs": [],
   "source": [
    "# the percentage of noncompliance with Covid19 per county (Bottom 5)\n",
    "sierra_response = num_sierra_response / total_num_citations * 100"
   ]
  },
  {
   "cell_type": "code",
   "execution_count": 49,
   "metadata": {},
   "outputs": [],
   "source": [
    "alpine_response = num_alpine_response / total_num_citations * 100"
   ]
  },
  {
   "cell_type": "code",
   "execution_count": 50,
   "metadata": {},
   "outputs": [],
   "source": [
    "trinity_response = num_trinity_response / total_num_citations * 100"
   ]
  },
  {
   "cell_type": "code",
   "execution_count": 51,
   "metadata": {},
   "outputs": [],
   "source": [
    "modoc_response = num_modoc_response / total_num_citations * 100"
   ]
  },
  {
   "cell_type": "code",
   "execution_count": 52,
   "metadata": {},
   "outputs": [],
   "source": [
    "mariposa_response = num_mariposa_response / total_num_citations * 100"
   ]
  },
  {
   "cell_type": "code",
   "execution_count": null,
   "metadata": {},
   "outputs": [],
   "source": []
  },
  {
   "cell_type": "code",
   "execution_count": 53,
   "metadata": {},
   "outputs": [
    {
     "data": {
      "text/html": [
       "<div>\n",
       "<style scoped>\n",
       "    .dataframe tbody tr th:only-of-type {\n",
       "        vertical-align: middle;\n",
       "    }\n",
       "\n",
       "    .dataframe tbody tr th {\n",
       "        vertical-align: top;\n",
       "    }\n",
       "\n",
       "    .dataframe thead th {\n",
       "        text-align: right;\n",
       "    }\n",
       "</style>\n",
       "<table border=\"1\" class=\"dataframe\">\n",
       "  <thead>\n",
       "    <tr style=\"text-align: right;\">\n",
       "      <th></th>\n",
       "      <th>Los Angeles</th>\n",
       "      <th>San Bernardino</th>\n",
       "      <th>Riverside</th>\n",
       "      <th>San Diego</th>\n",
       "      <th>Orange</th>\n",
       "    </tr>\n",
       "  </thead>\n",
       "  <tbody>\n",
       "    <tr>\n",
       "      <th>0</th>\n",
       "      <td>13.01</td>\n",
       "      <td>15.41</td>\n",
       "      <td>15.41</td>\n",
       "      <td>15.41</td>\n",
       "      <td>15.41</td>\n",
       "    </tr>\n",
       "  </tbody>\n",
       "</table>\n",
       "</div>"
      ],
      "text/plain": [
       "  Los Angeles San Bernardino Riverside San Diego Orange\n",
       "0       13.01          15.41     15.41     15.41  15.41"
      ]
     },
     "execution_count": 53,
     "metadata": {},
     "output_type": "execute_result"
    }
   ],
   "source": [
    "top5_percent_covid19_citation = pd.DataFrame({\n",
    "    \"Los Angeles\": [la_response],\n",
    "    \"San Bernardino\": [san_bernardino_response], \n",
    "    \"Riverside\": [riverside_response],\n",
    "    \"San Diego\": [san_diego_response],\n",
    "    \"Orange\": [oc_response],\n",
    "   \n",
    "})\n",
    "\n",
    "top5_percent_covid19_citation[\"Los Angeles\"]= top5_percent_covid19_citation[\"Los Angeles\"].map(\"{0:,.2f}\".format)\n",
    "top5_percent_covid19_citation[\"San Bernardino\"]= top5_percent_covid19_citation[\"San Bernardino\"].map(\"{0:,.2f}\".format)\n",
    "top5_percent_covid19_citation[\"Riverside\"]= top5_percent_covid19_citation[\"Riverside\"].map(\"{0:,.2f}\".format)\n",
    "top5_percent_covid19_citation[\"San Diego\"]= top5_percent_covid19_citation[\"San Diego\"].map(\"{0:,.2f}\".format)\n",
    "top5_percent_covid19_citation[\"Orange\"]= top5_percent_covid19_citation[\"Orange\"].map(\"{0:,.2f}\".format)\n",
    "\n",
    "\n",
    "top5_percent_covid19_citation"
   ]
  },
  {
   "cell_type": "code",
   "execution_count": null,
   "metadata": {},
   "outputs": [],
   "source": []
  },
  {
   "cell_type": "code",
   "execution_count": 54,
   "metadata": {},
   "outputs": [
    {
     "data": {
      "image/png": "[encoded data removed]",
      "text/plain": [
       "<Figure size 864x576 with 1 Axes>"
      ]
     },
     "metadata": {
      "needs_background": "light"
     },
     "output_type": "display_data"
    }
   ],
   "source": [
    "top5_percent_citation = [13.01, 15.41 ,15.41,15.41,15.41]\n",
    "index = ['Los Angeles', \"San Bernardino\",\"Riverside\",\"San Diego\",\"Orange\"]\n",
    "\n",
    "df = pd.DataFrame({'top5_percent_citation' : top5_percent_citation}, index = index)\n",
    "ax = df.plot.line(rot=0,figsize=(12, 8),linewidth = 2, markersize = 10, marker='o', color='red')\n",
    "ax.legend(loc=0)\n",
    "\n",
    "plt.title('Top 5 Counties Non Compliance with Covid19 Restriction',size = 18)\n",
    "plt.xlabel('Counties', size = 14)\n",
    "plt.ylabel('Percentage of Non Compliance',size = 14)\n",
    "plt.ylim(0,30)\n",
    "\n",
    "plt.savefig('output_data/top5 counties percentage')\n",
    "plt.show()\n",
    "\n"
   ]
  },
  {
   "cell_type": "code",
   "execution_count": 55,
   "metadata": {},
   "outputs": [
    {
     "data": {
      "text/html": [
       "<div>\n",
       "<style scoped>\n",
       "    .dataframe tbody tr th:only-of-type {\n",
       "        vertical-align: middle;\n",
       "    }\n",
       "\n",
       "    .dataframe tbody tr th {\n",
       "        vertical-align: top;\n",
       "    }\n",
       "\n",
       "    .dataframe thead th {\n",
       "        text-align: right;\n",
       "    }\n",
       "</style>\n",
       "<table border=\"1\" class=\"dataframe\">\n",
       "  <thead>\n",
       "    <tr style=\"text-align: right;\">\n",
       "      <th></th>\n",
       "      <th>Sierra</th>\n",
       "      <th>Alpine</th>\n",
       "      <th>Trinity</th>\n",
       "      <th>Modoc</th>\n",
       "      <th>Mariposa</th>\n",
       "    </tr>\n",
       "  </thead>\n",
       "  <tbody>\n",
       "    <tr>\n",
       "      <th>0</th>\n",
       "      <td>18.15</td>\n",
       "      <td>15.41</td>\n",
       "      <td>17.81</td>\n",
       "      <td>18.15</td>\n",
       "      <td>18.15</td>\n",
       "    </tr>\n",
       "  </tbody>\n",
       "</table>\n",
       "</div>"
      ],
      "text/plain": [
       "  Sierra Alpine Trinity  Modoc Mariposa\n",
       "0  18.15  15.41   17.81  18.15    18.15"
      ]
     },
     "execution_count": 55,
     "metadata": {},
     "output_type": "execute_result"
    }
   ],
   "source": [
    "bottom5_percent_covid19_citation = pd.DataFrame({\n",
    "    \"Sierra\":[sierra_response],\n",
    "    \"Alpine\": [alpine_response], \n",
    "    \"Trinity\": [trinity_response],\n",
    "    \"Modoc\": [modoc_response],\n",
    "    \"Mariposa\": [mariposa_response]})\n",
    "\n",
    "\n",
    "bottom5_percent_covid19_citation[\"Sierra\"]= bottom5_percent_covid19_citation[\"Sierra\"].map(\"{0:,.2f}\".format)\n",
    "bottom5_percent_covid19_citation[\"Alpine\"]= bottom5_percent_covid19_citation[\"Alpine\"].map(\"{0:,.2f}\".format)\n",
    "bottom5_percent_covid19_citation[\"Trinity\"]= bottom5_percent_covid19_citation[\"Trinity\"].map(\"{0:,.2f}\".format)\n",
    "bottom5_percent_covid19_citation[\"Modoc\"]= bottom5_percent_covid19_citation[\"Modoc\"].map(\"{0:,.2f}\".format)\n",
    "bottom5_percent_covid19_citation[\"Mariposa\"]= bottom5_percent_covid19_citation[\"Mariposa\"].map(\"{0:,.2f}\".format)\n",
    "\n",
    "\n",
    "\n",
    "bottom5_percent_covid19_citation\n"
   ]
  },
  {
   "cell_type": "code",
   "execution_count": 56,
   "metadata": {},
   "outputs": [
    {
     "data": {
      "image/png": "[encoded data removed]",
      "text/plain": [
       "<Figure size 864x576 with 1 Axes>"
      ]
     },
     "metadata": {
      "needs_background": "light"
     },
     "output_type": "display_data"
    }
   ],
   "source": [
    "bottom_percent_citation = [18.15, 15.41 ,17.81,18.15,18.15]\n",
    "index = [\"Sierra\", \"Alpine\",\"Trinity\",\"Modoc\",\"Mariposa\"]\n",
    "\n",
    "df = pd.DataFrame({'bottom_percent_citation' : bottom_percent_citation}, index = index)\n",
    "ax = df.plot.line(rot=0,figsize=(12, 8),linewidth = 2, markersize = 10, marker='o', color='g')\n",
    "ax.legend(loc=0)\n",
    "\n",
    "plt.title('Bottom 5 Counties Non Compliance with Covid19 Restriction',size = 18)\n",
    "plt.xlabel('Counties', size = 14)\n",
    "plt.ylabel('Percentage of Non Compliance',size = 14)\n",
    "plt.ylim(0,30)\n",
    "\n",
    "plt.savefig('output_data/bottom5 counties percentage')\n",
    "plt.show()"
   ]
  },
  {
   "cell_type": "code",
   "execution_count": 57,
   "metadata": {},
   "outputs": [],
   "source": [
    "# top five counties \n",
    "la_action = la_list.loc[la_list[\"County_Name\"] == \"Los Angeles County\"]['Action'].value_counts()"
   ]
  },
  {
   "cell_type": "code",
   "execution_count": 58,
   "metadata": {},
   "outputs": [],
   "source": [
    "san_bernardino_action = san_bernardino_list.loc[san_bernardino_list[\"County_Name\"] == \"San Bernardino County\"]['Action'].value_counts()"
   ]
  },
  {
   "cell_type": "code",
   "execution_count": 59,
   "metadata": {},
   "outputs": [],
   "source": [
    "riverside_action =riverside_list.loc[riverside_list[\"County_Name\"] == \"Riverside County\"]['Action'].value_counts()"
   ]
  },
  {
   "cell_type": "code",
   "execution_count": 60,
   "metadata": {},
   "outputs": [],
   "source": [
    "san_diego_action = san_diego_list.loc[san_diego_list[\"County_Name\"] == \"San Diego County\"]['Action'].value_counts()"
   ]
  },
  {
   "cell_type": "code",
   "execution_count": 61,
   "metadata": {},
   "outputs": [],
   "source": [
    "oc_action = oc_list.loc[oc_list[\"County_Name\"] == \"Orange County\"]['Action'].value_counts()"
   ]
  },
  {
   "cell_type": "code",
   "execution_count": 62,
   "metadata": {},
   "outputs": [
    {
     "data": {
      "text/html": [
       "<div>\n",
       "<style scoped>\n",
       "    .dataframe tbody tr th:only-of-type {\n",
       "        vertical-align: middle;\n",
       "    }\n",
       "\n",
       "    .dataframe tbody tr th {\n",
       "        vertical-align: top;\n",
       "    }\n",
       "\n",
       "    .dataframe thead th {\n",
       "        text-align: right;\n",
       "    }\n",
       "</style>\n",
       "<table border=\"1\" class=\"dataframe\">\n",
       "  <thead>\n",
       "    <tr style=\"text-align: right;\">\n",
       "      <th></th>\n",
       "      <th>Los Angeles</th>\n",
       "      <th>San Bernardino</th>\n",
       "      <th>Riverside</th>\n",
       "      <th>San Diego</th>\n",
       "      <th>Orange</th>\n",
       "    </tr>\n",
       "  </thead>\n",
       "  <tbody>\n",
       "    <tr>\n",
       "      <th>Open with social distancing/reduced seating/enhanced sanitation</th>\n",
       "      <td>191</td>\n",
       "      <td>198</td>\n",
       "      <td>198</td>\n",
       "      <td>198</td>\n",
       "      <td>198</td>\n",
       "    </tr>\n",
       "    <tr>\n",
       "      <th>Curbside/carryout/delivery only</th>\n",
       "      <td>97</td>\n",
       "      <td>90</td>\n",
       "      <td>90</td>\n",
       "      <td>90</td>\n",
       "      <td>90</td>\n",
       "    </tr>\n",
       "    <tr>\n",
       "      <th>none</th>\n",
       "      <td>4</td>\n",
       "      <td>4</td>\n",
       "      <td>4</td>\n",
       "      <td>4</td>\n",
       "      <td>4</td>\n",
       "    </tr>\n",
       "  </tbody>\n",
       "</table>\n",
       "</div>"
      ],
      "text/plain": [
       "                                                    Los Angeles  \\\n",
       "Open with social distancing/reduced seating/enh...          191   \n",
       "Curbside/carryout/delivery only                              97   \n",
       "none                                                          4   \n",
       "\n",
       "                                                    San Bernardino  Riverside  \\\n",
       "Open with social distancing/reduced seating/enh...             198        198   \n",
       "Curbside/carryout/delivery only                                 90         90   \n",
       "none                                                             4          4   \n",
       "\n",
       "                                                    San Diego  Orange  \n",
       "Open with social distancing/reduced seating/enh...        198     198  \n",
       "Curbside/carryout/delivery only                            90      90  \n",
       "none                                                        4       4  "
      ]
     },
     "execution_count": 62,
     "metadata": {},
     "output_type": "execute_result"
    }
   ],
   "source": [
    "top5_counties = pd.DataFrame({\n",
    "    \"Los Angeles\":la_action,\n",
    "    \"San Bernardino\": san_bernardino_action, \n",
    "    \"Riverside\": riverside_action,\n",
    "    \"San Diego\": san_diego_action,\n",
    "    \"Orange\": oc_action\n",
    "    \n",
    "})\n",
    "top5_counties"
   ]
  },
  {
   "cell_type": "code",
   "execution_count": null,
   "metadata": {},
   "outputs": [],
   "source": []
  },
  {
   "cell_type": "code",
   "execution_count": 63,
   "metadata": {},
   "outputs": [
    {
     "data": {
      "image/png": "[encoded data removed]",
      "text/plain": [
       "<Figure size 864x576 with 1 Axes>"
      ]
     },
     "metadata": {
      "needs_background": "light"
     },
     "output_type": "display_data"
    }
   ],
   "source": [
    "open_limitations = [191,198,198,198,198]\n",
    "curbside = [97,90,90,90,90]\n",
    "none = [4,4,4,4,4]\n",
    "\n",
    "index = ['Los Angeles', \"San Bernardino\",\"Riverside\",\"San Diego\",\"Orange\"]\n",
    "\n",
    "df = pd.DataFrame({'Open with social distancing/reduced seating/enhanced sanitation' : open_limitations,\n",
    "                  'Curbside/carryout/delivery only' : curbside, \n",
    "                  'None': none},index = index)\n",
    "\n",
    "ax = df.plot.bar(rot=0, figsize=(12, 8), align = 'center')\n",
    "\n",
    "\n",
    "plt.title('Top 5 Counties - Restaurant Actions ',size = 18)\n",
    "plt.xlabel('Counties', size = 14)\n",
    "plt.ylabel('Num of Restaurant',size = 14)\n",
    "plt.ylim(0,300)\n",
    "\n",
    "plt.savefig('output_data/top5 action')\n",
    "plt.show()\n"
   ]
  },
  {
   "cell_type": "code",
   "execution_count": 64,
   "metadata": {},
   "outputs": [],
   "source": [
    "# buttom five counties\n",
    "\n",
    "sierra_action  =sierra_list.loc[sierra_list[\"County_Name\"] == \"Sierra County\"]['Action'].value_counts()"
   ]
  },
  {
   "cell_type": "code",
   "execution_count": 65,
   "metadata": {},
   "outputs": [],
   "source": [
    "alpine_action  = alpine_list.loc[alpine_list[\"County_Name\"] == \"Alpine County\"]['Action'].value_counts()"
   ]
  },
  {
   "cell_type": "code",
   "execution_count": 66,
   "metadata": {},
   "outputs": [],
   "source": [
    "trinity_action = trinity_list.loc[trinity_list[\"County_Name\"] == \"Trinity County\"]['Action'].value_counts()"
   ]
  },
  {
   "cell_type": "code",
   "execution_count": 67,
   "metadata": {},
   "outputs": [],
   "source": [
    "modoc_action = modoc_list.loc[modoc_list[\"County_Name\"] == \"Modoc County\"]['Action'].value_counts()"
   ]
  },
  {
   "cell_type": "code",
   "execution_count": 68,
   "metadata": {},
   "outputs": [],
   "source": [
    "mariposa_action = mariposa_list.loc[mariposa_list[\"County_Name\"] == \"Mariposa County\"]['Action'].value_counts()"
   ]
  },
  {
   "cell_type": "code",
   "execution_count": 69,
   "metadata": {},
   "outputs": [],
   "source": [
    "bottom5_counties = pd.DataFrame({\n",
    "    \"Sierra\":sierra_action,\n",
    "    \"Alpine\": alpine_action, \n",
    "    \"Trinity\": trinity_action,\n",
    "    \"Modoc\": modoc_action,\n",
    "    \"Mariposa\": mariposa_action\n",
    "    \n",
    "})"
   ]
  },
  {
   "cell_type": "code",
   "execution_count": 70,
   "metadata": {},
   "outputs": [
    {
     "data": {
      "text/html": [
       "<div>\n",
       "<style scoped>\n",
       "    .dataframe tbody tr th:only-of-type {\n",
       "        vertical-align: middle;\n",
       "    }\n",
       "\n",
       "    .dataframe tbody tr th {\n",
       "        vertical-align: top;\n",
       "    }\n",
       "\n",
       "    .dataframe thead th {\n",
       "        text-align: right;\n",
       "    }\n",
       "</style>\n",
       "<table border=\"1\" class=\"dataframe\">\n",
       "  <thead>\n",
       "    <tr style=\"text-align: right;\">\n",
       "      <th></th>\n",
       "      <th>Sierra</th>\n",
       "      <th>Alpine</th>\n",
       "      <th>Trinity</th>\n",
       "      <th>Modoc</th>\n",
       "      <th>Mariposa</th>\n",
       "    </tr>\n",
       "  </thead>\n",
       "  <tbody>\n",
       "    <tr>\n",
       "      <th>Open with social distancing/reduced seating/enhanced sanitation</th>\n",
       "      <td>211</td>\n",
       "      <td>203</td>\n",
       "      <td>231</td>\n",
       "      <td>232</td>\n",
       "      <td>206</td>\n",
       "    </tr>\n",
       "    <tr>\n",
       "      <th>Curbside/carryout/delivery only</th>\n",
       "      <td>77</td>\n",
       "      <td>85</td>\n",
       "      <td>57</td>\n",
       "      <td>56</td>\n",
       "      <td>82</td>\n",
       "    </tr>\n",
       "    <tr>\n",
       "      <th>none</th>\n",
       "      <td>4</td>\n",
       "      <td>4</td>\n",
       "      <td>4</td>\n",
       "      <td>4</td>\n",
       "      <td>4</td>\n",
       "    </tr>\n",
       "  </tbody>\n",
       "</table>\n",
       "</div>"
      ],
      "text/plain": [
       "                                                    Sierra  Alpine  Trinity  \\\n",
       "Open with social distancing/reduced seating/enh...     211     203      231   \n",
       "Curbside/carryout/delivery only                         77      85       57   \n",
       "none                                                     4       4        4   \n",
       "\n",
       "                                                    Modoc  Mariposa  \n",
       "Open with social distancing/reduced seating/enh...    232       206  \n",
       "Curbside/carryout/delivery only                        56        82  \n",
       "none                                                    4         4  "
      ]
     },
     "execution_count": 70,
     "metadata": {},
     "output_type": "execute_result"
    }
   ],
   "source": [
    "bottom5_counties"
   ]
  },
  {
   "cell_type": "code",
   "execution_count": 71,
   "metadata": {},
   "outputs": [
    {
     "data": {
      "image/png": "[encoded data removed]",
      "text/plain": [
       "<Figure size 864x576 with 1 Axes>"
      ]
     },
     "metadata": {
      "needs_background": "light"
     },
     "output_type": "display_data"
    }
   ],
   "source": [
    "open_limitations = [211,203,231,232,206]\n",
    "curbside = [77,85,57,56,82]\n",
    "\n",
    "index = ['Los Angeles', \"San Bernardino\",\"Riverside\",\"San Diego\",\"Orange\"]\n",
    "\n",
    "df = pd.DataFrame({'Open with social distancing/reduced seating/enhanced sanitation' : open_limitations,\n",
    "                  'Curbside/carryout/delivery only' : curbside,\n",
    "                  'None':none},index = index)\n",
    "\n",
    "ax = df.plot.bar(rot=0, figsize=(12, 8), align = 'center')\n",
    "\n",
    "\n",
    "plt.title('Bottom 5 Counties - Restaurant Actions ',size = 18)\n",
    "plt.xlabel('Counties', size = 14)\n",
    "plt.ylabel('Number of Restaurant',size = 14)\n",
    "plt.ylim(0,300)\n",
    "\n",
    "plt.savefig('output_data/bottom5 action')\n",
    "\n",
    "plt.show()"
   ]
  },
  {
   "cell_type": "code",
   "execution_count": 72,
   "metadata": {},
   "outputs": [
    {
     "data": {
      "text/plain": [
       "27450"
      ]
     },
     "execution_count": 72,
     "metadata": {},
     "output_type": "execute_result"
    }
   ],
   "source": [
    "len(covid_cases_df)"
   ]
  },
  {
   "cell_type": "code",
   "execution_count": 73,
   "metadata": {},
   "outputs": [],
   "source": [
    "cases_by_coutnty = covid_cases_df.loc[ covid_cases_df[\"area_type\"]==\"County\",:]"
   ]
  },
  {
   "cell_type": "code",
   "execution_count": 74,
   "metadata": {},
   "outputs": [
    {
     "data": {
      "text/plain": [
       "27000"
      ]
     },
     "execution_count": 74,
     "metadata": {},
     "output_type": "execute_result"
    }
   ],
   "source": [
    "len(cases_by_coutnty)"
   ]
  },
  {
   "cell_type": "code",
   "execution_count": 75,
   "metadata": {},
   "outputs": [
    {
     "data": {
      "text/html": [
       "<div>\n",
       "<style scoped>\n",
       "    .dataframe tbody tr th:only-of-type {\n",
       "        vertical-align: middle;\n",
       "    }\n",
       "\n",
       "    .dataframe tbody tr th {\n",
       "        vertical-align: top;\n",
       "    }\n",
       "\n",
       "    .dataframe thead th {\n",
       "        text-align: right;\n",
       "    }\n",
       "</style>\n",
       "<table border=\"1\" class=\"dataframe\">\n",
       "  <thead>\n",
       "    <tr style=\"text-align: right;\">\n",
       "      <th></th>\n",
       "      <th>area</th>\n",
       "      <th>population</th>\n",
       "      <th>cases</th>\n",
       "      <th>deaths</th>\n",
       "      <th>total_tests</th>\n",
       "      <th>positive_tests</th>\n",
       "      <th>reported_cases</th>\n",
       "      <th>reported_deaths</th>\n",
       "      <th>reported_tests</th>\n",
       "    </tr>\n",
       "  </thead>\n",
       "  <tbody>\n",
       "    <tr>\n",
       "      <th>0</th>\n",
       "      <td>Alameda</td>\n",
       "      <td>1685886.0</td>\n",
       "      <td>204.612827</td>\n",
       "      <td>2.973872</td>\n",
       "      <td>5509.685969</td>\n",
       "      <td>223.759465</td>\n",
       "      <td>191.471111</td>\n",
       "      <td>2.791111</td>\n",
       "      <td>5898.415730</td>\n",
       "    </tr>\n",
       "    <tr>\n",
       "      <th>1</th>\n",
       "      <td>Alpine</td>\n",
       "      <td>1117.0</td>\n",
       "      <td>0.206651</td>\n",
       "      <td>0.000000</td>\n",
       "      <td>4.329621</td>\n",
       "      <td>0.080178</td>\n",
       "      <td>0.193333</td>\n",
       "      <td>0.000000</td>\n",
       "      <td>2.657303</td>\n",
       "    </tr>\n",
       "    <tr>\n",
       "      <th>2</th>\n",
       "      <td>Amador</td>\n",
       "      <td>38531.0</td>\n",
       "      <td>8.650831</td>\n",
       "      <td>0.109264</td>\n",
       "      <td>254.271715</td>\n",
       "      <td>9.300668</td>\n",
       "      <td>8.095556</td>\n",
       "      <td>0.102222</td>\n",
       "      <td>190.404494</td>\n",
       "    </tr>\n",
       "    <tr>\n",
       "      <th>3</th>\n",
       "      <td>Butte</td>\n",
       "      <td>217769.0</td>\n",
       "      <td>27.812352</td>\n",
       "      <td>0.465558</td>\n",
       "      <td>466.910913</td>\n",
       "      <td>27.625835</td>\n",
       "      <td>26.020000</td>\n",
       "      <td>0.435556</td>\n",
       "      <td>512.095506</td>\n",
       "    </tr>\n",
       "    <tr>\n",
       "      <th>4</th>\n",
       "      <td>Calaveras</td>\n",
       "      <td>44289.0</td>\n",
       "      <td>4.921615</td>\n",
       "      <td>0.118765</td>\n",
       "      <td>88.138085</td>\n",
       "      <td>5.180401</td>\n",
       "      <td>4.604444</td>\n",
       "      <td>0.111111</td>\n",
       "      <td>86.401685</td>\n",
       "    </tr>\n",
       "  </tbody>\n",
       "</table>\n",
       "</div>"
      ],
      "text/plain": [
       "        area  population       cases    deaths  total_tests  positive_tests  \\\n",
       "0    Alameda   1685886.0  204.612827  2.973872  5509.685969      223.759465   \n",
       "1     Alpine      1117.0    0.206651  0.000000     4.329621        0.080178   \n",
       "2     Amador     38531.0    8.650831  0.109264   254.271715        9.300668   \n",
       "3      Butte    217769.0   27.812352  0.465558   466.910913       27.625835   \n",
       "4  Calaveras     44289.0    4.921615  0.118765    88.138085        5.180401   \n",
       "\n",
       "   reported_cases  reported_deaths  reported_tests  \n",
       "0      191.471111         2.791111     5898.415730  \n",
       "1        0.193333         0.000000        2.657303  \n",
       "2        8.095556         0.102222      190.404494  \n",
       "3       26.020000         0.435556      512.095506  \n",
       "4        4.604444         0.111111       86.401685  "
      ]
     },
     "execution_count": 75,
     "metadata": {},
     "output_type": "execute_result"
    }
   ],
   "source": [
    "avg_cases_by_county_df = cases_by_coutnty.groupby(['area']).mean().reset_index()\n",
    "avg_cases_by_county_df.head()"
   ]
  },
  {
   "cell_type": "code",
   "execution_count": 76,
   "metadata": {},
   "outputs": [
    {
     "data": {
      "text/html": [
       "<div>\n",
       "<style scoped>\n",
       "    .dataframe tbody tr th:only-of-type {\n",
       "        vertical-align: middle;\n",
       "    }\n",
       "\n",
       "    .dataframe tbody tr th {\n",
       "        vertical-align: top;\n",
       "    }\n",
       "\n",
       "    .dataframe thead th {\n",
       "        text-align: right;\n",
       "    }\n",
       "</style>\n",
       "<table border=\"1\" class=\"dataframe\">\n",
       "  <thead>\n",
       "    <tr style=\"text-align: right;\">\n",
       "      <th></th>\n",
       "      <th>area</th>\n",
       "      <th>population</th>\n",
       "      <th>cases</th>\n",
       "      <th>deaths</th>\n",
       "      <th>total_tests</th>\n",
       "      <th>positive_tests</th>\n",
       "      <th>reported_cases</th>\n",
       "      <th>reported_deaths</th>\n",
       "      <th>reported_tests</th>\n",
       "    </tr>\n",
       "  </thead>\n",
       "  <tbody>\n",
       "    <tr>\n",
       "      <th>0</th>\n",
       "      <td>Los Angeles</td>\n",
       "      <td>10257557.0</td>\n",
       "      <td>2827.767221</td>\n",
       "      <td>56.520190</td>\n",
       "      <td>42318.993318</td>\n",
       "      <td>3408.314031</td>\n",
       "      <td>2646.600000</td>\n",
       "      <td>52.886667</td>\n",
       "      <td>64130.890449</td>\n",
       "    </tr>\n",
       "    <tr>\n",
       "      <th>1</th>\n",
       "      <td>San Bernardino</td>\n",
       "      <td>2217398.0</td>\n",
       "      <td>689.532067</td>\n",
       "      <td>10.729216</td>\n",
       "      <td>6280.982183</td>\n",
       "      <td>762.178174</td>\n",
       "      <td>645.237778</td>\n",
       "      <td>10.157778</td>\n",
       "      <td>7080.688202</td>\n",
       "    </tr>\n",
       "    <tr>\n",
       "      <th>2</th>\n",
       "      <td>Riverside</td>\n",
       "      <td>2468145.0</td>\n",
       "      <td>680.745843</td>\n",
       "      <td>10.344418</td>\n",
       "      <td>6253.768374</td>\n",
       "      <td>763.886414</td>\n",
       "      <td>637.002222</td>\n",
       "      <td>9.780000</td>\n",
       "      <td>6785.769663</td>\n",
       "    </tr>\n",
       "    <tr>\n",
       "      <th>3</th>\n",
       "      <td>San Diego</td>\n",
       "      <td>3370418.0</td>\n",
       "      <td>654.147268</td>\n",
       "      <td>8.769596</td>\n",
       "      <td>9154.717149</td>\n",
       "      <td>659.316258</td>\n",
       "      <td>612.026667</td>\n",
       "      <td>8.204444</td>\n",
       "      <td>11002.424157</td>\n",
       "    </tr>\n",
       "    <tr>\n",
       "      <th>4</th>\n",
       "      <td>Orange</td>\n",
       "      <td>3228519.0</td>\n",
       "      <td>599.669834</td>\n",
       "      <td>11.681710</td>\n",
       "      <td>8046.567929</td>\n",
       "      <td>686.118040</td>\n",
       "      <td>561.180000</td>\n",
       "      <td>10.931111</td>\n",
       "      <td>9274.530899</td>\n",
       "    </tr>\n",
       "  </tbody>\n",
       "</table>\n",
       "</div>"
      ],
      "text/plain": [
       "             area  population        cases     deaths   total_tests  \\\n",
       "0     Los Angeles  10257557.0  2827.767221  56.520190  42318.993318   \n",
       "1  San Bernardino   2217398.0   689.532067  10.729216   6280.982183   \n",
       "2       Riverside   2468145.0   680.745843  10.344418   6253.768374   \n",
       "3       San Diego   3370418.0   654.147268   8.769596   9154.717149   \n",
       "4          Orange   3228519.0   599.669834  11.681710   8046.567929   \n",
       "\n",
       "   positive_tests  reported_cases  reported_deaths  reported_tests  \n",
       "0     3408.314031     2646.600000        52.886667    64130.890449  \n",
       "1      762.178174      645.237778        10.157778     7080.688202  \n",
       "2      763.886414      637.002222         9.780000     6785.769663  \n",
       "3      659.316258      612.026667         8.204444    11002.424157  \n",
       "4      686.118040      561.180000        10.931111     9274.530899  "
      ]
     },
     "execution_count": 76,
     "metadata": {},
     "output_type": "execute_result"
    }
   ],
   "source": [
    "avg_cases_by_county_df = avg_cases_by_county_df.sort_values(by='cases', ascending = False).reset_index(drop= True)\n",
    "avg_cases_by_county_df.head()"
   ]
  },
  {
   "cell_type": "code",
   "execution_count": 77,
   "metadata": {},
   "outputs": [
    {
     "data": {
      "text/html": [
       "<div>\n",
       "<style scoped>\n",
       "    .dataframe tbody tr th:only-of-type {\n",
       "        vertical-align: middle;\n",
       "    }\n",
       "\n",
       "    .dataframe tbody tr th {\n",
       "        vertical-align: top;\n",
       "    }\n",
       "\n",
       "    .dataframe thead th {\n",
       "        text-align: right;\n",
       "    }\n",
       "</style>\n",
       "<table border=\"1\" class=\"dataframe\">\n",
       "  <thead>\n",
       "    <tr style=\"text-align: right;\">\n",
       "      <th></th>\n",
       "      <th>area</th>\n",
       "      <th>population</th>\n",
       "      <th>cases</th>\n",
       "      <th>deaths</th>\n",
       "      <th>total_tests</th>\n",
       "      <th>positive_tests</th>\n",
       "      <th>reported_cases</th>\n",
       "      <th>reported_deaths</th>\n",
       "      <th>reported_tests</th>\n",
       "    </tr>\n",
       "  </thead>\n",
       "  <tbody>\n",
       "    <tr>\n",
       "      <th>0</th>\n",
       "      <td>Los Angeles</td>\n",
       "      <td>10257557.0</td>\n",
       "      <td>2827.767221</td>\n",
       "      <td>56.520190</td>\n",
       "      <td>42318.993318</td>\n",
       "      <td>3408.314031</td>\n",
       "      <td>2646.600000</td>\n",
       "      <td>52.886667</td>\n",
       "      <td>64130.890449</td>\n",
       "    </tr>\n",
       "    <tr>\n",
       "      <th>1</th>\n",
       "      <td>San Bernardino</td>\n",
       "      <td>2217398.0</td>\n",
       "      <td>689.532067</td>\n",
       "      <td>10.729216</td>\n",
       "      <td>6280.982183</td>\n",
       "      <td>762.178174</td>\n",
       "      <td>645.237778</td>\n",
       "      <td>10.157778</td>\n",
       "      <td>7080.688202</td>\n",
       "    </tr>\n",
       "    <tr>\n",
       "      <th>2</th>\n",
       "      <td>Riverside</td>\n",
       "      <td>2468145.0</td>\n",
       "      <td>680.745843</td>\n",
       "      <td>10.344418</td>\n",
       "      <td>6253.768374</td>\n",
       "      <td>763.886414</td>\n",
       "      <td>637.002222</td>\n",
       "      <td>9.780000</td>\n",
       "      <td>6785.769663</td>\n",
       "    </tr>\n",
       "    <tr>\n",
       "      <th>3</th>\n",
       "      <td>San Diego</td>\n",
       "      <td>3370418.0</td>\n",
       "      <td>654.147268</td>\n",
       "      <td>8.769596</td>\n",
       "      <td>9154.717149</td>\n",
       "      <td>659.316258</td>\n",
       "      <td>612.026667</td>\n",
       "      <td>8.204444</td>\n",
       "      <td>11002.424157</td>\n",
       "    </tr>\n",
       "    <tr>\n",
       "      <th>4</th>\n",
       "      <td>Orange</td>\n",
       "      <td>3228519.0</td>\n",
       "      <td>599.669834</td>\n",
       "      <td>11.681710</td>\n",
       "      <td>8046.567929</td>\n",
       "      <td>686.118040</td>\n",
       "      <td>561.180000</td>\n",
       "      <td>10.931111</td>\n",
       "      <td>9274.530899</td>\n",
       "    </tr>\n",
       "  </tbody>\n",
       "</table>\n",
       "</div>"
      ],
      "text/plain": [
       "             area  population        cases     deaths   total_tests  \\\n",
       "0     Los Angeles  10257557.0  2827.767221  56.520190  42318.993318   \n",
       "1  San Bernardino   2217398.0   689.532067  10.729216   6280.982183   \n",
       "2       Riverside   2468145.0   680.745843  10.344418   6253.768374   \n",
       "3       San Diego   3370418.0   654.147268   8.769596   9154.717149   \n",
       "4          Orange   3228519.0   599.669834  11.681710   8046.567929   \n",
       "\n",
       "   positive_tests  reported_cases  reported_deaths  reported_tests  \n",
       "0     3408.314031     2646.600000        52.886667    64130.890449  \n",
       "1      762.178174      645.237778        10.157778     7080.688202  \n",
       "2      763.886414      637.002222         9.780000     6785.769663  \n",
       "3      659.316258      612.026667         8.204444    11002.424157  \n",
       "4      686.118040      561.180000        10.931111     9274.530899  "
      ]
     },
     "execution_count": 77,
     "metadata": {},
     "output_type": "execute_result"
    }
   ],
   "source": [
    "top5_covid_counties_df = avg_cases_by_county_df.iloc[ 0:5, :].reset_index(drop = True)\n",
    "top5_covid_counties_df"
   ]
  },
  {
   "cell_type": "code",
   "execution_count": null,
   "metadata": {},
   "outputs": [],
   "source": []
  },
  {
   "cell_type": "code",
   "execution_count": 78,
   "metadata": {},
   "outputs": [
    {
     "data": {
      "image/png": "[encoded data removed]",
      "text/plain": [
       "<Figure size 864x432 with 1 Axes>"
      ]
     },
     "metadata": {
      "needs_background": "light"
     },
     "output_type": "display_data"
    }
   ],
   "source": [
    "# Avg Cases of counties vs Top 5 counties Non Compliance with Covid19\n",
    "\n",
    "fig1, ax1 = plt.subplots(figsize=(12, 6))\n",
    "\n",
    "x_axis_data = Top5_transposed\n",
    "y_axis_data = top5_covid_counties_df['cases']\n",
    "\n",
    "\n",
    "plt.scatter(x_axis_data,y_axis_data, marker=\"o\",facecolors=\"red\", edgecolors=\"black\",\n",
    "            s=x_axis_data,alpha=0.75)\n",
    "\n",
    "plt.title('Top 5 counties Non Compliance vs Avg Cases of counties',fontsize=20)\n",
    "plt.xlabel('Num of restaurant citation', fontsize=14)         \n",
    "plt.ylabel('Avg Cases by county', fontsize=14) \n",
    "marker_size = 20\n",
    "plt.show()\n"
   ]
  },
  {
   "cell_type": "code",
   "execution_count": 79,
   "metadata": {},
   "outputs": [
    {
     "data": {
      "image/png": "[encoded data removed]",
      "text/plain": [
       "<Figure size 864x432 with 1 Axes>"
      ]
     },
     "metadata": {
      "needs_background": "light"
     },
     "output_type": "display_data"
    }
   ],
   "source": [
    "# Avg Cases of counties vs total Top5 counties of Citation\n",
    "\n",
    "fig1, ax1 = plt.subplots(figsize=(12, 6))\n",
    "\n",
    "x_axis_data =Top5_total_transposed\n",
    "y_axis_data =top5_covid_counties_df['cases']\n",
    "\n",
    "plt.scatter(x_axis_data,y_axis_data, marker=\"o\",facecolors=\"red\", edgecolors=\"black\",\n",
    "            s=x_axis_data,alpha=0.75)\n",
    "\n",
    "plt.title('Top 5 counties Non Compliance vs Avg Cases of counties',fontsize=20)\n",
    "plt.xlabel('Num of restaurant citation', fontsize=14)         \n",
    "plt.ylabel('Avg Cases by county', fontsize=14) \n",
    "marker_size = 20\n",
    "plt.show()"
   ]
  },
  {
   "cell_type": "code",
   "execution_count": null,
   "metadata": {},
   "outputs": [],
   "source": [
    "\n",
    "\n",
    "\n",
    "\n",
    "\n",
    "\n",
    "\n",
    "\n",
    "\n"
   ]
  },
  {
   "cell_type": "code",
   "execution_count": null,
   "metadata": {},
   "outputs": [],
   "source": []
  },
  {
   "cell_type": "code",
   "execution_count": null,
   "metadata": {},
   "outputs": [],
   "source": []
  },
  {
   "cell_type": "code",
   "execution_count": null,
   "metadata": {},
   "outputs": [],
   "source": []
  }
 ],
 "metadata": {
  "kernelspec": {
   "display_name": "Python 3",
   "language": "python",
   "name": "python3"
  },
  "language_info": {
   "codemirror_mode": {
    "name": "ipython",
    "version": 3
   },
   "file_extension": ".py",
   "mimetype": "text/x-python",
   "name": "python",
   "nbconvert_exporter": "python",
   "pygments_lexer": "ipython3",
   "version": "3.8.5"
  }
 },
 "nbformat": 4,
 "nbformat_minor": 4
}
